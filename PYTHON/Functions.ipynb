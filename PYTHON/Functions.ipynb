{
 "cells": [
  {
   "cell_type": "markdown",
   "id": "e04364b4-24c1-4148-a38d-a450e476e058",
   "metadata": {},
   "source": [
    "> Def is a keyword that indicated that this is a function definition."
   ]
  },
  {
   "cell_type": "markdown",
   "id": "40f92610-8723-452e-933f-8ddecde2acdc",
   "metadata": {},
   "source": [
    "Why functions? : Functions can make a program smaller by eliminating repetitive code."
   ]
  },
  {
   "cell_type": "markdown",
   "id": "ec18e0e3-429c-49b7-8811-8e447f3784f0",
   "metadata": {},
   "source": [
    "1. Write function takes a string named text as a parameter and prints the string with enough leading spaces that the last letter of the string is in the 40th column of the display."
   ]
  },
  {
   "attachments": {
    "cde1b13d-af2b-4489-9f1b-a3a8c1117f75.png": {
     "image/png": "[encoded data removed]"
    }
   },
   "cell_type": "markdown",
   "id": "1cebcc4c-abf6-4b39-9eff-3db5c4ae2799",
   "metadata": {},
   "source": [
    "![CleanShot 2567-09-21 at 19.46.51@2x.png](attachment:cde1b13d-af2b-4489-9f1b-a3a8c1117f75.png)"
   ]
  },
  {
   "cell_type": "markdown",
   "id": "b3e7914a-d90f-4176-946f-260ae89c88a2",
   "metadata": {},
   "source": [
    "### Solve problem more than coding."
   ]
  },
  {
   "cell_type": "markdown",
   "id": "03f1602c-0d0f-4b78-b8aa-02f81e88a08f",
   "metadata": {},
   "source": [
    "**1.Understand the Problem Requirements:** The goal is to position the last character of the input string (text) exactly in the 40th column.\n",
    "\n",
    "**2.What function to determine the Number of Leading Spaces:** Calculate the length of the string (text).\n",
    "\n",
    "**3.Implement the logic:**\n",
    "- 3.1 Use the len() function to calculate the length of the string.\n",
    "- 3.2 Use string concatenation or formatting to add the required number of spaces before the string."
   ]
  },
  {
   "cell_type": "code",
   "execution_count": 1,
   "id": "68fee6fe-f8e1-4f15-a6f4-1138fc7c9d12",
   "metadata": {},
   "outputs": [],
   "source": [
    "#write function\n",
    "def print_right(text):\n",
    "    len_text = len(text) #Calculate the length of the input text\n",
    "    if len_text >= 40:\n",
    "        print(text)\n",
    "    else:\n",
    "        # Calculate the number of leading spaces needed\n",
    "        leading_spaces = 40 - len_text\n",
    "        # Create the final string with leading spaces\n",
    "        result = ' ' * leading_spaces + text\n",
    "        print(result)"
   ]
  },
  {
   "cell_type": "code",
   "execution_count": 2,
   "id": "66297be8-b25a-4a0c-874d-90d291b9f5b3",
   "metadata": {},
   "outputs": [
    {
     "name": "stdout",
     "output_type": "stream",
     "text": [
      "                                    Data\n",
      "                            Data Analyst\n",
      "                           Data Engineer\n"
     ]
    }
   ],
   "source": [
    "print_right(\"Data\")\n",
    "print_right(\"Data Analyst\")\n",
    "print_right(\"Data Engineer\")"
   ]
  },
  {
   "cell_type": "markdown",
   "id": "4a7e5f57-8361-48e4-ba39-c9e9fecb8572",
   "metadata": {},
   "source": [
    "2. Write function triangle that takes a string and an integer and draws a triangle with the given height.Here’s an example of a triangle with ten levels using the string 'L'"
   ]
  },
  {
   "attachments": {
    "508259f8-b35f-4006-a4c4-1fdc1fe9f6d7.png": {
     "image/png": "[encoded data removed]"
    }
   },
   "cell_type": "markdown",
   "id": "98ae0742-194d-4e14-9da8-4b95dfbee060",
   "metadata": {},
   "source": [
    "![CleanShot 2567-09-22 at 21.33.47@2x.png](attachment:508259f8-b35f-4006-a4c4-1fdc1fe9f6d7.png)"
   ]
  },
  {
   "cell_type": "markdown",
   "id": "0a55935b-b143-4940-90c6-106ce3af9240",
   "metadata": {},
   "source": [
    "### Solve problem more than coding."
   ]
  },
  {
   "cell_type": "markdown",
   "id": "984dcc56-a925-43a9-b740-a91a842d7337",
   "metadata": {},
   "source": [
    "**1.Understand the Problem Requirements:** The goal is to create a triangle where each row consists of multiple copies of the input string.\n",
    "\n",
    "**2.What Functions or Operations Are Needed:** Iterate and Concatenate or multiply.\n",
    "\n",
    "**3.Implement the logic:**\n",
    "- 3.1 Use the range() Function produces numbers from 1 up to no.\n",
    "- 3.2 Calculate and Print Each Row multiply the string by the current level number i."
   ]
  },
  {
   "cell_type": "code",
   "execution_count": 31,
   "id": "5ad4159f-004a-4e84-828b-db37dd61e4d6",
   "metadata": {},
   "outputs": [],
   "source": [
    "def triangle(string , no):\n",
    "    for i in range(1 ,  no  + 1):\n",
    "        print(string * i)"
   ]
  },
  {
   "cell_type": "code",
   "execution_count": 32,
   "id": "1ce7f0bf-138f-4333-99f8-4176dc7413da",
   "metadata": {},
   "outputs": [
    {
     "name": "stdout",
     "output_type": "stream",
     "text": [
      "L\n",
      "LL\n",
      "LLL\n",
      "LLLL\n",
      "LLLLL\n",
      "LLLLLL\n",
      "LLLLLLL\n",
      "LLLLLLLL\n",
      "LLLLLLLLL\n",
      "LLLLLLLLLL\n"
     ]
    }
   ],
   "source": [
    "triangle('L' , 10)"
   ]
  }
 ],
 "metadata": {
  "kernelspec": {
   "display_name": "Python 3 (ipykernel)",
   "language": "python",
   "name": "python3"
  },
  "language_info": {
   "codemirror_mode": {
    "name": "ipython",
    "version": 3
   },
   "file_extension": ".py",
   "mimetype": "text/x-python",
   "name": "python",
   "nbconvert_exporter": "python",
   "pygments_lexer": "ipython3",
   "version": "3.12.4"
  }
 },
 "nbformat": 4,
 "nbformat_minor": 5
}
